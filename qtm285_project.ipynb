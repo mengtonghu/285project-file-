{
  "nbformat": 4,
  "nbformat_minor": 0,
  "metadata": {
    "colab": {
      "name": "qtm285-project.ipynb",
      "version": "0.3.2",
      "views": {},
      "default_view": {},
      "provenance": [],
      "collapsed_sections": []
    },
    "kernelspec": {
      "name": "python3",
      "display_name": "Python 3"
    }
  },
  "cells": [
    {
      "metadata": {
        "id": "9akin6xKKKQ5",
        "colab_type": "text"
      },
      "cell_type": "markdown",
      "source": [
        "The task your group will take on is to write an interesting essay in a Jupyter Notebook format using code to justify your arguments.\n",
        "\n",
        "Your essay should have an introduction, three body arguments each presenting a different type of code analysis, and a conclusion\n",
        "\n",
        "**Reading the classics**\n",
        "\n",
        "To complete this project your group will do the following:\n",
        "\n",
        "1)  Compare **two or more authors** and** five or more books** from Project Gutenberg (http://www.gutenberg.org/ (Links to an external site.)Links to an external site.)\n",
        "\n",
        "2) Use as **a template the ``reading books'' lecture **that was presented in an earlier module.\n",
        "\n",
        "3) Your essay should compare and contrast the books in interesting ways, for instance by looking at** sentence length, or frequency of main character, how often they swear, vocabulary size,** etc. I am not looking for you to answer questions about these examples I just gave but **rather to come up with your own original questions** and use code to try to answer them.\n",
        "\n",
        "**Grading**\n",
        "\n",
        "The breakdown is:\n",
        "\n",
        "(40%) Creativity and writing of essay. Did your group **tell a good story, raise interesting and original questions, and utilize the data to drive the narrative**? If so, you get full points here. Please outline each members contribution in the notebook if you worked on any parts individually. For instance, \"this visualization was prepared by x and y team members\" or \"This introduction was written by z and edited by x\" or ``this question was raised by member y'' and similarly for the other components of your essay.\n",
        "\n",
        "(40%) Utilization of code. Did your group **successfully modify the original examples **in order to reveal interesting details about your data? If so, full points.\n",
        "\n",
        "(20%) Quality of the work** No typos, appropriately labeled plots, clear description of member contributions, pleasant looking and logical division into paragraphs or sections, images added and used well**.\n",
        "\n",
        "\n",
        "Q: How many pages should it be?\n",
        "\n",
        "A: The challenge is not to produce a long essay, but rather to figure out what the code does in the template file, get it working on your computer, get your data input, modify the code as necessary, make the notebook produce a reasonably nice looking html output, and submit it all by the deadline :)\n",
        "\n",
        "---\n",
        "\n",
        "\n",
        "\n",
        "Q: Can we use code we found on google?\n",
        "\n",
        "---\n",
        "\n",
        "\n",
        "\n",
        "A: You are welcome to use outside code as long as a link is provided to the source of the code and your contribution is described. For instance, ``Next we modifed the code of person X found at link Y by changing line Z to get the code you see here\".  Or, ``we were inspired to do this after seeing the fascinating notebook by person X at link Y''."
      ]
    },
    {
      "metadata": {
        "id": "6wOLghpAHXP0",
        "colab_type": "text"
      },
      "cell_type": "markdown",
      "source": [
        "# Useful articles for writing up introduction:\n",
        "https://www.newyorker.com/books/page-turner/what-makes-great-detective-fiction-according-to-t-s-eliot\n",
        "https://www.criminalelement.com/blogs/2013/05/addicted-to-addicted-detectives-lance-charnes-alcohol-drugs-sex-gambling-sherlock-holmes-harry-hole\n",
        "https://www.irishtimes.com/culture/books/agatha-christie-genius-or-hack-crime-writers-pass-judgment-and-pick-favourites-1.2351699\n"
      ]
    },
    {
      "metadata": {
        "id": "Iid_XlwoPEi-",
        "colab_type": "text"
      },
      "cell_type": "markdown",
      "source": [
        "#Title"
      ]
    },
    {
      "metadata": {
        "id": "Bh5qSKDPwUdQ",
        "colab_type": "text"
      },
      "cell_type": "markdown",
      "source": [
        "#I.Introduction \n",
        "(Mengtong)\n",
        "\n",
        "**1. why detective novel? **\n",
        "Detective story is full of protracted plot twists and portentous cliffhangers(cited.)\n",
        "Detective genre has been created for more than 200 years, but detecitve genere is still one of the most popular readings among all ages.\n",
        "We are wondering how detective novel has evolved in the past 200 years. We selected three most popular English detective novel authors,  Wilkie Collins(1824-1889),Arthur Conan Doyle(1859-1930) and Agatha Christe(1919–2004). Theses three authors were icons of their era, spanning the golden ages of detective novels history.\n",
        "\n",
        "**2.**\n",
        "\n",
        "a.\n",
        "We want to compare the varying sentence length of each author. (Length of sentences can somehow reveal the complexity of the text and since the authors are in different eras and in different gender, it would be interesting to see the distinction.) \n",
        "\n",
        "b.\n",
        "We are also interested in the female characters who haven been depicted in the novels and their roles in the development of storyline. \n",
        "\n",
        "c.\n",
        "Last, but no least, we are also curious to see the sentiment pattern in each novel written by different authors. \n",
        "\n",
        "d.\n",
        "Combining the above three analyses, we are hopping to see the distinct traits of each author's writing, and more importantly answer the question of how detective novels evolved over time.\n",
        "\n"
      ]
    },
    {
      "metadata": {
        "id": "LvQQqwOSOp-z",
        "colab_type": "text"
      },
      "cell_type": "markdown",
      "source": [
        "#II.Analysis\n",
        "##II.I Comparison of Sentence length\n",
        "(why we are interested in this topic **Ila**)\n",
        "\n"
      ]
    },
    {
      "metadata": {
        "id": "qv4G16xjNnPB",
        "colab_type": "code",
        "colab": {
          "autoexec": {
            "startup": false,
            "wait_interval": 0
          },
          "output_extras": [
            {
              "item_id": 33
            },
            {
              "item_id": 40
            }
          ],
          "base_uri": "https://localhost:8080/",
          "height": 1312
        },
        "outputId": "863e4afb-d0e3-4101-888a-e86fc437605f",
        "executionInfo": {
          "status": "ok",
          "timestamp": 1522765320351,
          "user_tz": 240,
          "elapsed": 19204,
          "user": {
            "displayName": "Betty Hu",
            "photoUrl": "https://lh3.googleusercontent.com/a/default-user=s128",
            "userId": "111577064576674311680"
          }
        }
      },
      "cell_type": "code",
      "source": [
        "!pip install datascience\n",
        "# HIDDEN\n",
        "from datascience import *\n",
        "from datascience.predicates import are\n",
        "import numpy as np\n",
        "import matplotlib\n",
        "matplotlib.use('Agg', warn=False)\n",
        "%matplotlib inline\n",
        "import matplotlib.pyplot as plots\n",
        "plots.style.use('fivethirtyeight')\n",
        "import warnings\n",
        "warnings.simplefilter(action=\"ignore\", category=FutureWarning)\n",
        "\n",
        "from urllib.request import urlopen \n",
        "import re\n",
        "def read_url(url): \n",
        "    return re.sub('\\\\s+', ' ', urlopen(url).read().decode('utf-8','ignore'))\n"
      ],
      "execution_count": 3,
      "outputs": [
        {
          "output_type": "stream",
          "text": [
            "Collecting datascience\n",
            "  Downloading datascience-0.10.4.tar.gz (40kB)\n",
            "\u001b[K    100% |████████████████████████████████| 40kB 3.0MB/s \n",
            "\u001b[?25hCollecting coverage==3.7.1 (from datascience)\n",
            "  Downloading coverage-3.7.1.tar.gz (284kB)\n",
            "\u001b[K    100% |████████████████████████████████| 286kB 3.0MB/s \n",
            "\u001b[?25hCollecting coveralls==0.5 (from datascience)\n",
            "  Downloading coveralls-0.5.zip\n",
            "Collecting folium==0.1.5 (from datascience)\n",
            "  Downloading folium-0.1.5.tar.gz (41kB)\n",
            "\u001b[K    100% |████████████████████████████████| 51kB 10.1MB/s \n",
            "\u001b[?25hCollecting pytest (from datascience)\n",
            "  Downloading pytest-3.5.0-py2.py3-none-any.whl (194kB)\n",
            "\u001b[K    100% |████████████████████████████████| 194kB 4.4MB/s \n",
            "\u001b[?25hRequirement already satisfied: setuptools in /usr/lib/python3/dist-packages (from datascience)\n",
            "Collecting sphinx (from datascience)\n",
            "  Downloading Sphinx-1.7.2-py2.py3-none-any.whl (1.9MB)\n",
            "\u001b[K    100% |████████████████████████████████| 1.9MB 645kB/s \n",
            "\u001b[?25hRequirement already satisfied: PyYAML>=3.10 in /usr/local/lib/python3.6/dist-packages (from coveralls==0.5->datascience)\n",
            "Collecting docopt>=0.6.1 (from coveralls==0.5->datascience)\n",
            "  Downloading docopt-0.6.2.tar.gz\n",
            "Requirement already satisfied: requests>=1.0.0 in /usr/local/lib/python3.6/dist-packages (from coveralls==0.5->datascience)\n",
            "Collecting more-itertools>=4.0.0 (from pytest->datascience)\n",
            "  Downloading more_itertools-4.1.0-py3-none-any.whl (47kB)\n",
            "\u001b[K    100% |████████████████████████████████| 51kB 4.6MB/s \n",
            "\u001b[?25hCollecting attrs>=17.4.0 (from pytest->datascience)\n",
            "  Downloading attrs-17.4.0-py2.py3-none-any.whl\n",
            "Requirement already satisfied: six>=1.10.0 in /usr/local/lib/python3.6/dist-packages (from pytest->datascience)\n",
            "Collecting pluggy<0.7,>=0.5 (from pytest->datascience)\n",
            "  Downloading pluggy-0.6.0.tar.gz\n",
            "Collecting py>=1.5.0 (from pytest->datascience)\n",
            "  Downloading py-1.5.3-py2.py3-none-any.whl (84kB)\n",
            "\u001b[K    100% |████████████████████████████████| 92kB 9.3MB/s \n",
            "\u001b[?25hRequirement already satisfied: Jinja2>=2.3 in /usr/local/lib/python3.6/dist-packages (from sphinx->datascience)\n",
            "Collecting babel!=2.0,>=1.3 (from sphinx->datascience)\n",
            "  Downloading Babel-2.5.3-py2.py3-none-any.whl (6.8MB)\n",
            "\u001b[K    100% |████████████████████████████████| 6.8MB 199kB/s \n",
            "\u001b[?25hCollecting imagesize (from sphinx->datascience)\n",
            "  Downloading imagesize-1.0.0-py2.py3-none-any.whl\n",
            "Collecting packaging (from sphinx->datascience)\n",
            "  Downloading packaging-17.1-py2.py3-none-any.whl\n",
            "Requirement already satisfied: Pygments>=2.0 in /usr/local/lib/python3.6/dist-packages (from sphinx->datascience)\n",
            "Collecting alabaster<0.8,>=0.7 (from sphinx->datascience)\n",
            "  Downloading alabaster-0.7.10-py2.py3-none-any.whl\n",
            "Collecting snowballstemmer>=1.1 (from sphinx->datascience)\n",
            "  Downloading snowballstemmer-1.2.1-py2.py3-none-any.whl (64kB)\n",
            "\u001b[K    100% |████████████████████████████████| 71kB 10.3MB/s \n",
            "\u001b[?25hCollecting docutils>=0.11 (from sphinx->datascience)\n",
            "  Downloading docutils-0.14-py3-none-any.whl (543kB)\n",
            "\u001b[K    100% |████████████████████████████████| 552kB 2.1MB/s \n",
            "\u001b[?25hCollecting sphinxcontrib-websupport (from sphinx->datascience)\n",
            "  Downloading sphinxcontrib_websupport-1.0.1-py2.py3-none-any.whl\n",
            "Requirement already satisfied: idna<2.7,>=2.5 in /usr/local/lib/python3.6/dist-packages (from requests>=1.0.0->coveralls==0.5->datascience)\n",
            "Requirement already satisfied: urllib3<1.23,>=1.21.1 in /usr/local/lib/python3.6/dist-packages (from requests>=1.0.0->coveralls==0.5->datascience)\n",
            "Requirement already satisfied: certifi>=2017.4.17 in /usr/local/lib/python3.6/dist-packages (from requests>=1.0.0->coveralls==0.5->datascience)\n",
            "Requirement already satisfied: chardet<3.1.0,>=3.0.2 in /usr/local/lib/python3.6/dist-packages (from requests>=1.0.0->coveralls==0.5->datascience)\n",
            "Requirement already satisfied: MarkupSafe in /usr/local/lib/python3.6/dist-packages (from Jinja2>=2.3->sphinx->datascience)\n",
            "Requirement already satisfied: pytz>=0a in /usr/local/lib/python3.6/dist-packages (from babel!=2.0,>=1.3->sphinx->datascience)\n",
            "Requirement already satisfied: pyparsing>=2.0.2 in /usr/local/lib/python3.6/dist-packages (from packaging->sphinx->datascience)\n",
            "Building wheels for collected packages: datascience, coverage, coveralls, folium, docopt, pluggy\n",
            "  Running setup.py bdist_wheel for datascience ... \u001b[?25l-\b \bdone\n",
            "\u001b[?25h  Stored in directory: /content/.cache/pip/wheels/f7/28/00/e2de1c86cfb882f8ffbc46bc17bccaa8f0295dcc394595396b\n",
            "  Running setup.py bdist_wheel for coverage ... \u001b[?25l-\b \b\\"
          ],
          "name": "stdout"
        },
        {
          "output_type": "stream",
          "text": [
            "\b \b|\b \bdone\n",
            "\u001b[?25h  Stored in directory: /content/.cache/pip/wheels/09/d5/14/fad8864342631171117f01b9b2473a07c053e5c1054d40e48c\n",
            "  Running setup.py bdist_wheel for coveralls ... \u001b[?25l-\b \bdone\n",
            "\u001b[?25h  Stored in directory: /content/.cache/pip/wheels/c1/39/ce/1ad042a101a8475a7b9e8344f53a789c9eeb2697ed3e8dd35b\n",
            "  Running setup.py bdist_wheel for folium ... \u001b[?25l-\b \b\\\b \bdone\n",
            "\u001b[?25h  Stored in directory: /content/.cache/pip/wheels/97/f3/25/51a7acd11b6663869c0723fe1c3f63c74725f3243d01d61ea7\n",
            "  Running setup.py bdist_wheel for docopt ... \u001b[?25l-\b \bdone\n",
            "\u001b[?25h  Stored in directory: /content/.cache/pip/wheels/b2/16/5f/c33a2bb5f2dce71205f8e65cbfd05647d79d441282be31fd82\n",
            "  Running setup.py bdist_wheel for pluggy ... \u001b[?25l-\b \bdone\n",
            "\u001b[?25h  Stored in directory: /content/.cache/pip/wheels/df/44/8e/e136760ae525eac46b3e3db643ef58ff1753177b5a722b0c96\n",
            "Successfully built datascience coverage coveralls folium docopt pluggy\n",
            "Installing collected packages: coverage, docopt, coveralls, folium, more-itertools, attrs, pluggy, py, pytest, babel, imagesize, packaging, alabaster, snowballstemmer, docutils, sphinxcontrib-websupport, sphinx, datascience\n",
            "Successfully installed alabaster-0.7.10 attrs-17.4.0 babel-2.5.3 coverage-3.7.1 coveralls-0.5 datascience-0.10.4 docopt-0.6.2 docutils-0.14 folium-0.1.5 imagesize-1.0.0 more-itertools-4.1.0 packaging-17.1 pluggy-0.6.0 py-1.5.3 pytest-3.5.0 snowballstemmer-1.2.1 sphinx-1.7.2 sphinxcontrib-websupport-1.0.1\n"
          ],
          "name": "stdout"
        }
      ]
    },
    {
      "metadata": {
        "id": "pgoS_NHpMqCJ",
        "colab_type": "code",
        "colab": {
          "autoexec": {
            "startup": false,
            "wait_interval": 0
          }
        }
      },
      "cell_type": "code",
      "source": [
        "#Read 2 books from each author\n",
        "# Arthur Conan Doyle\n",
        "#Title: The Sign of the Four #Mary Morstan   Hudson\n",
        "Doyle_Sign_url = 'http://www.gutenberg.org/cache/epub/2097/pg2097.txt'\n",
        "Doyle_Sign_text= read_url(Doyle_Sign_url)\n",
        "#Adventures of Sherlock Holmes  #Irene Adler   Hudson\n",
        "Doyle_Adventures_url = 'http://www.gutenberg.org/files/48320/48320-0.txt'\n",
        "Doyle_Adventures_text = read_url(Doyle_Adventures_url)\n",
        "\n",
        "#Wilkie Collins\n",
        "#Title: No Name\n",
        "Collins_NoName_url = 'http://www.gutenberg.org/files/1438/1438-0.txt'\n",
        "Collins_NoName_text= read_url(Collins_NoName_url)\n",
        "#Title: The Haunted Hotel\n",
        "Collins_Hotel_url = 'http://www.gutenberg.org/cache/epub/170/pg170.txt'\n",
        "Collins_Hotel_text= read_url(Collins_Hotel_url)\n",
        "\n",
        "\n",
        "#Agatha Christe\n",
        "#Title: The Secret Adversary\n",
        "Christe_Secret_url = 'http://www.gutenberg.org/files/1155/1155-0.txt'\n",
        "Christe_Secret_text= read_url(Christe_Secret_url)\n",
        "#Title: The Mysterious Affair at Styles\n",
        "Christe_Affair_url ='http://www.gutenberg.org/files/863/863-0.txt'\n",
        "Christe_Affair_text= read_url(Christe_Affair_url)\n",
        "\n",
        "#Positive Words\n",
        "pos_word_url = 'http://ptrckprry.com/course/ssd/data/positive-words.txt'\n",
        "pos_word_text = read_url(pos_word_url)\n",
        "pos_word_list = pos_word_text.split(';;;;;;;;;;;;;;;;;;;;;;;;;;;;;;;;;;;;;;;;;;;;;;;;;;;;;;;;;;;;;;;;;;;;;;;;;;;;')[2].split(' ')\n",
        "\n",
        "#Negative Words\n",
        "neg_word_url = 'http://ptrckprry.com/course/ssd/data/negative-words.txt'\n",
        "neg_word_text = read_url(neg_word_url)\n",
        "neg_word_list = neg_word_text.split(';;;;;;;;;;;;;;;;;;;;;;;;;;;;;;;;;;;;;;;;;;;;;;;;;;;;;;;;;;;;;;;;;;;;;;;;;;;;;;')[2].split(' ')\n",
        "\n"
      ],
      "execution_count": 0,
      "outputs": []
    },
    {
      "metadata": {
        "id": "0rsuOVrp5mn1",
        "colab_type": "code",
        "colab": {
          "autoexec": {
            "startup": false,
            "wait_interval": 0
          },
          "output_extras": [
            {
              "item_id": 1
            }
          ],
          "base_uri": "https://localhost:8080/",
          "height": 34
        },
        "outputId": "7af18e6a-c7fc-4a04-9fc7-5b3eb236e677",
        "executionInfo": {
          "status": "ok",
          "timestamp": 1522550662108,
          "user_tz": 240,
          "elapsed": 253,
          "user": {
            "displayName": "Betty Hu",
            "photoUrl": "https://lh3.googleusercontent.com/a/default-user=s128",
            "userId": "111577064576674311680"
          }
        }
      },
      "cell_type": "code",
      "source": [
        "sentence_count=np.char.count(Doyle_Sign_text, '.')\n",
        "word_count=np.char.count(Doyle_Sign_text, ' ')\n",
        "length_Doyle_Sign=word_count/sentence_count\n",
        "word_Sign_10000=word_count/10000\n",
        "length_Doyle_Sign\n"
      ],
      "execution_count": 69,
      "outputs": [
        {
          "output_type": "execute_result",
          "data": {
            "text/plain": [
              "15.777244688142563"
            ]
          },
          "metadata": {
            "tags": []
          },
          "execution_count": 69
        }
      ]
    },
    {
      "metadata": {
        "id": "RqDdK1dD3qxq",
        "colab_type": "code",
        "colab": {
          "autoexec": {
            "startup": false,
            "wait_interval": 0
          },
          "output_extras": [
            {
              "item_id": 1
            }
          ],
          "base_uri": "https://localhost:8080/",
          "height": 34
        },
        "outputId": "4c2f4434-f5b2-4627-c83a-58b7cfcd6e57",
        "executionInfo": {
          "status": "ok",
          "timestamp": 1522550663553,
          "user_tz": 240,
          "elapsed": 229,
          "user": {
            "displayName": "Betty Hu",
            "photoUrl": "https://lh3.googleusercontent.com/a/default-user=s128",
            "userId": "111577064576674311680"
          }
        }
      },
      "cell_type": "code",
      "source": [
        "print(word_Sign_10000)"
      ],
      "execution_count": 70,
      "outputs": [
        {
          "output_type": "stream",
          "text": [
            "4.6038\n"
          ],
          "name": "stdout"
        }
      ]
    },
    {
      "metadata": {
        "id": "z6ziQZ5QMr4m",
        "colab_type": "code",
        "colab": {
          "autoexec": {
            "startup": false,
            "wait_interval": 0
          },
          "output_extras": [
            {
              "item_id": 1
            }
          ],
          "base_uri": "https://localhost:8080/",
          "height": 34
        },
        "outputId": "faea3c26-6752-4ce2-93ba-e6f8ab27365d",
        "executionInfo": {
          "status": "ok",
          "timestamp": 1522550664672,
          "user_tz": 240,
          "elapsed": 329,
          "user": {
            "displayName": "Betty Hu",
            "photoUrl": "https://lh3.googleusercontent.com/a/default-user=s128",
            "userId": "111577064576674311680"
          }
        }
      },
      "cell_type": "code",
      "source": [
        "sentence_count=np.char.count(Doyle_Adventures_text, '.')\n",
        "word_count=np.char.count(Doyle_Adventures_text, ' ')\n",
        "length_Doyle_Adventures=word_count/sentence_count\n",
        "word_Adventures_10000=word_count/10000\n",
        "\n",
        "length_Doyle_Adventures"
      ],
      "execution_count": 71,
      "outputs": [
        {
          "output_type": "execute_result",
          "data": {
            "text/plain": [
              "16.473359422034918"
            ]
          },
          "metadata": {
            "tags": []
          },
          "execution_count": 71
        }
      ]
    },
    {
      "metadata": {
        "id": "fBzzq4jD4MLe",
        "colab_type": "code",
        "colab": {
          "autoexec": {
            "startup": false,
            "wait_interval": 0
          },
          "output_extras": [
            {
              "item_id": 1
            }
          ],
          "base_uri": "https://localhost:8080/",
          "height": 34
        },
        "outputId": "aaf7097c-7efa-4e4d-c22b-ebe0d92f4e41",
        "executionInfo": {
          "status": "ok",
          "timestamp": 1522550666284,
          "user_tz": 240,
          "elapsed": 392,
          "user": {
            "displayName": "Betty Hu",
            "photoUrl": "https://lh3.googleusercontent.com/a/default-user=s128",
            "userId": "111577064576674311680"
          }
        }
      },
      "cell_type": "code",
      "source": [
        "print(word_Adventures_10000)"
      ],
      "execution_count": 72,
      "outputs": [
        {
          "output_type": "stream",
          "text": [
            "10.9449\n"
          ],
          "name": "stdout"
        }
      ]
    },
    {
      "metadata": {
        "id": "tRPiozrU4TKn",
        "colab_type": "code",
        "colab": {
          "autoexec": {
            "startup": false,
            "wait_interval": 0
          },
          "output_extras": [
            {
              "item_id": 1
            }
          ],
          "base_uri": "https://localhost:8080/",
          "height": 34
        },
        "outputId": "ab4cb875-9165-4078-eea3-09d486c3b233",
        "executionInfo": {
          "status": "ok",
          "timestamp": 1522549574369,
          "user_tz": 240,
          "elapsed": 231,
          "user": {
            "displayName": "susan ren",
            "photoUrl": "https://lh3.googleusercontent.com/a/default-user=s128",
            "userId": "111695690971496678914"
          }
        }
      },
      "cell_type": "code",
      "source": [
        "word_NoName_10000"
      ],
      "execution_count": 14,
      "outputs": [
        {
          "output_type": "execute_result",
          "data": {
            "text/plain": [
              "26.5979"
            ]
          },
          "metadata": {
            "tags": []
          },
          "execution_count": 14
        }
      ]
    },
    {
      "metadata": {
        "id": "qjV_A-Z778zy",
        "colab_type": "text"
      },
      "cell_type": "markdown",
      "source": [
        ""
      ]
    },
    {
      "metadata": {
        "id": "7AS0d7Eg7M_N",
        "colab_type": "code",
        "colab": {
          "autoexec": {
            "startup": false,
            "wait_interval": 0
          },
          "output_extras": [
            {
              "item_id": 1
            }
          ],
          "base_uri": "https://localhost:8080/",
          "height": 34
        },
        "outputId": "6db5978a-9e46-49c4-dc72-17374002bcc2",
        "executionInfo": {
          "status": "ok",
          "timestamp": 1522550677644,
          "user_tz": 240,
          "elapsed": 477,
          "user": {
            "displayName": "Betty Hu",
            "photoUrl": "https://lh3.googleusercontent.com/a/default-user=s128",
            "userId": "111577064576674311680"
          }
        }
      },
      "cell_type": "code",
      "source": [
        "sentence_count=np.char.count(Collins_Hotel_text, '.')\n",
        "word_count=np.char.count(Collins_Hotel_text, ' ')\n",
        "word_Hotel_10000=word_count/10000\n",
        "length_Collins_Hotel=word_count/sentence_count\n",
        "length_Collins_Hotel"
      ],
      "execution_count": 76,
      "outputs": [
        {
          "output_type": "execute_result",
          "data": {
            "text/plain": [
              "16.32615230460922"
            ]
          },
          "metadata": {
            "tags": []
          },
          "execution_count": 76
        }
      ]
    },
    {
      "metadata": {
        "id": "AggluVXk67of",
        "colab_type": "code",
        "colab": {
          "autoexec": {
            "startup": false,
            "wait_interval": 0
          },
          "output_extras": [
            {
              "item_id": 1
            }
          ],
          "base_uri": "https://localhost:8080/",
          "height": 34
        },
        "outputId": "9d523a1a-a599-4834-cdcf-05cec57a1535",
        "executionInfo": {
          "status": "ok",
          "timestamp": 1522550676429,
          "user_tz": 240,
          "elapsed": 251,
          "user": {
            "displayName": "Betty Hu",
            "photoUrl": "https://lh3.googleusercontent.com/a/default-user=s128",
            "userId": "111577064576674311680"
          }
        }
      },
      "cell_type": "code",
      "source": [
        "sentence_count=np.char.count(Collins_NoName_text, '.')\n",
        "word_count=np.char.count(Collins_NoName_text, ' ')\n",
        "word_NoName_10000=word_count/10000\n",
        "length_Collins_NoName=word_count/sentence_count\n",
        "length_Collins_NoName"
      ],
      "execution_count": 75,
      "outputs": [
        {
          "output_type": "execute_result",
          "data": {
            "text/plain": [
              "16.861861290731582"
            ]
          },
          "metadata": {
            "tags": []
          },
          "execution_count": 75
        }
      ]
    },
    {
      "metadata": {
        "id": "1KtZoT4i4cA3",
        "colab_type": "code",
        "colab": {
          "autoexec": {
            "startup": false,
            "wait_interval": 0
          },
          "output_extras": [
            {
              "item_id": 1
            }
          ],
          "base_uri": "https://localhost:8080/",
          "height": 34
        },
        "outputId": "cebff8c3-9db7-4130-c8f0-6b6140236c11",
        "executionInfo": {
          "status": "ok",
          "timestamp": 1522550678663,
          "user_tz": 240,
          "elapsed": 266,
          "user": {
            "displayName": "Betty Hu",
            "photoUrl": "https://lh3.googleusercontent.com/a/default-user=s128",
            "userId": "111577064576674311680"
          }
        }
      },
      "cell_type": "code",
      "source": [
        "word_Hotel_10000"
      ],
      "execution_count": 77,
      "outputs": [
        {
          "output_type": "execute_result",
          "data": {
            "text/plain": [
              "6.5174"
            ]
          },
          "metadata": {
            "tags": []
          },
          "execution_count": 77
        }
      ]
    },
    {
      "metadata": {
        "id": "viZeAx538aMe",
        "colab_type": "code",
        "colab": {
          "autoexec": {
            "startup": false,
            "wait_interval": 0
          },
          "output_extras": [
            {
              "item_id": 1
            }
          ],
          "base_uri": "https://localhost:8080/",
          "height": 34
        },
        "outputId": "c12dca13-9ac9-469f-ef06-4cba54933e14",
        "executionInfo": {
          "status": "ok",
          "timestamp": 1522550679437,
          "user_tz": 240,
          "elapsed": 287,
          "user": {
            "displayName": "Betty Hu",
            "photoUrl": "https://lh3.googleusercontent.com/a/default-user=s128",
            "userId": "111577064576674311680"
          }
        }
      },
      "cell_type": "code",
      "source": [
        "sentence_count=np.char.count(Christe_Secret_text, '.')\n",
        "word_count=np.char.count(Christe_Secret_text, ' ')\n",
        "word_Secret_10000=word_count/10000\n",
        "length_Christe_Secret=word_count/sentence_count\n",
        "length_Christe_Secret"
      ],
      "execution_count": 78,
      "outputs": [
        {
          "output_type": "execute_result",
          "data": {
            "text/plain": [
              "10.450106723585913"
            ]
          },
          "metadata": {
            "tags": []
          },
          "execution_count": 78
        }
      ]
    },
    {
      "metadata": {
        "id": "zhx6x5-n4x_2",
        "colab_type": "code",
        "colab": {
          "autoexec": {
            "startup": false,
            "wait_interval": 0
          },
          "output_extras": [
            {
              "item_id": 1
            }
          ],
          "base_uri": "https://localhost:8080/",
          "height": 34
        },
        "outputId": "c5b4454f-3f38-43f0-aaea-b2e5072d80ee",
        "executionInfo": {
          "status": "ok",
          "timestamp": 1522550680312,
          "user_tz": 240,
          "elapsed": 240,
          "user": {
            "displayName": "Betty Hu",
            "photoUrl": "https://lh3.googleusercontent.com/a/default-user=s128",
            "userId": "111577064576674311680"
          }
        }
      },
      "cell_type": "code",
      "source": [
        "word_Secret_10000"
      ],
      "execution_count": 79,
      "outputs": [
        {
          "output_type": "execute_result",
          "data": {
            "text/plain": [
              "7.8334"
            ]
          },
          "metadata": {
            "tags": []
          },
          "execution_count": 79
        }
      ]
    },
    {
      "metadata": {
        "id": "eM7uJvFd8mf8",
        "colab_type": "code",
        "colab": {
          "autoexec": {
            "startup": false,
            "wait_interval": 0
          },
          "output_extras": [
            {
              "item_id": 1
            }
          ],
          "base_uri": "https://localhost:8080/",
          "height": 34
        },
        "outputId": "fd91b6cf-aa55-4073-8d8b-53f2f07af6d1",
        "executionInfo": {
          "status": "ok",
          "timestamp": 1522550681299,
          "user_tz": 240,
          "elapsed": 424,
          "user": {
            "displayName": "Betty Hu",
            "photoUrl": "https://lh3.googleusercontent.com/a/default-user=s128",
            "userId": "111577064576674311680"
          }
        }
      },
      "cell_type": "code",
      "source": [
        "sentence_count=np.char.count(Christe_Affair_text, '.')\n",
        "word_count=np.char.count(Christe_Affair_text, ' ')\n",
        "word_Affair_10000=word_count/10000\n",
        "length_Christe_Affair=word_count/sentence_count\n",
        "length_Christe_Affair"
      ],
      "execution_count": 80,
      "outputs": [
        {
          "output_type": "execute_result",
          "data": {
            "text/plain": [
              "12.245942058763099"
            ]
          },
          "metadata": {
            "tags": []
          },
          "execution_count": 80
        }
      ]
    },
    {
      "metadata": {
        "id": "ma-aGeBX41zJ",
        "colab_type": "code",
        "colab": {
          "autoexec": {
            "startup": false,
            "wait_interval": 0
          },
          "output_extras": [
            {
              "item_id": 1
            }
          ],
          "base_uri": "https://localhost:8080/",
          "height": 34
        },
        "outputId": "b5e6c37d-b876-4dc1-9a53-4870b349722d",
        "executionInfo": {
          "status": "ok",
          "timestamp": 1522550682171,
          "user_tz": 240,
          "elapsed": 257,
          "user": {
            "displayName": "Betty Hu",
            "photoUrl": "https://lh3.googleusercontent.com/a/default-user=s128",
            "userId": "111577064576674311680"
          }
        }
      },
      "cell_type": "code",
      "source": [
        "word_Affair_10000"
      ],
      "execution_count": 81,
      "outputs": [
        {
          "output_type": "execute_result",
          "data": {
            "text/plain": [
              "5.9601"
            ]
          },
          "metadata": {
            "tags": []
          },
          "execution_count": 81
        }
      ]
    },
    {
      "metadata": {
        "id": "B8T5VZl076ok",
        "colab_type": "code",
        "colab": {
          "autoexec": {
            "startup": false,
            "wait_interval": 0
          },
          "output_extras": [
            {
              "item_id": 1
            }
          ],
          "base_uri": "https://localhost:8080/",
          "height": 235
        },
        "outputId": "62c74051-d213-4a32-f859-2cecbe506a88",
        "executionInfo": {
          "status": "ok",
          "timestamp": 1522550683486,
          "user_tz": 240,
          "elapsed": 254,
          "user": {
            "displayName": "Betty Hu",
            "photoUrl": "https://lh3.googleusercontent.com/a/default-user=s128",
            "userId": "111577064576674311680"
          }
        }
      },
      "cell_type": "code",
      "source": [
        "book_names=['No Name','The Haunted Hotel','Adventures of Sherlock Holmes','The Sign of the Four','The Mysterious Affair at Styles','The Secret Adversary']\n",
        "sentence_length = Table().with_columns(\n",
        "    'Name of Novels',book_names,\n",
        "    'Sentence Length', make_array(length_Collins_NoName, length_Collins_Hotel, length_Doyle_Adventures, length_Doyle_Sign, length_Christe_Affair, length_Christe_Secret )\n",
        "  )\n",
        "sentence_length"
      ],
      "execution_count": 82,
      "outputs": [
        {
          "output_type": "execute_result",
          "data": {
            "text/html": [
              "<table border=\"1\" class=\"dataframe\">\n",
              "    <thead>\n",
              "        <tr>\n",
              "            <th>Name of Novels</th> <th>Sentence Length</th>\n",
              "        </tr>\n",
              "    </thead>\n",
              "    <tbody>\n",
              "        <tr>\n",
              "            <td>No Name                        </td> <td>16.8619        </td>\n",
              "        </tr>\n",
              "    </tbody>\n",
              "        <tr>\n",
              "            <td>The Haunted Hotel              </td> <td>16.3262        </td>\n",
              "        </tr>\n",
              "    </tbody>\n",
              "        <tr>\n",
              "            <td>Adventures of Sherlock Holmes  </td> <td>16.4734        </td>\n",
              "        </tr>\n",
              "    </tbody>\n",
              "        <tr>\n",
              "            <td>The Sign of the Four           </td> <td>15.7772        </td>\n",
              "        </tr>\n",
              "    </tbody>\n",
              "        <tr>\n",
              "            <td>The Mysterious Affair at Styles</td> <td>12.2459        </td>\n",
              "        </tr>\n",
              "    </tbody>\n",
              "        <tr>\n",
              "            <td>The Secret Adversary           </td> <td>10.4501        </td>\n",
              "        </tr>\n",
              "    </tbody>\n",
              "</table>"
            ],
            "text/plain": [
              "Name of Novels                  | Sentence Length\n",
              "No Name                         | 16.8619\n",
              "The Haunted Hotel               | 16.3262\n",
              "Adventures of Sherlock Holmes   | 16.4734\n",
              "The Sign of the Four            | 15.7772\n",
              "The Mysterious Affair at Styles | 12.2459\n",
              "The Secret Adversary            | 10.4501"
            ]
          },
          "metadata": {
            "tags": []
          },
          "execution_count": 82
        }
      ]
    },
    {
      "metadata": {
        "id": "vdoVyLPd9etN",
        "colab_type": "code",
        "colab": {
          "autoexec": {
            "startup": false,
            "wait_interval": 0
          },
          "output_extras": [
            {
              "item_id": 1
            }
          ],
          "base_uri": "https://localhost:8080/",
          "height": 300
        },
        "outputId": "ae9b972a-1dfc-43a1-8aa8-124ffb4b4484",
        "executionInfo": {
          "status": "ok",
          "timestamp": 1522550685061,
          "user_tz": 240,
          "elapsed": 484,
          "user": {
            "displayName": "Betty Hu",
            "photoUrl": "https://lh3.googleusercontent.com/a/default-user=s128",
            "userId": "111577064576674311680"
          }
        }
      },
      "cell_type": "code",
      "source": [
        "sentence_length.barh('Name of Novels', 'Sentence Length')"
      ],
      "execution_count": 83,
      "outputs": [
        {
          "output_type": "display_data",
          "data": {
            "image/png": "[encoded data removed]",
            "text/plain": [
              "<matplotlib.figure.Figure at 0x7fd7fa1b0f60>"
            ]
          },
          "metadata": {
            "tags": []
          }
        }
      ]
    },
    {
      "metadata": {
        "id": "_C77IxwJ_Ozu",
        "colab_type": "code",
        "colab": {
          "autoexec": {
            "startup": false,
            "wait_interval": 0
          }
        }
      },
      "cell_type": "code",
      "source": [
        "Years=[1862,1879,1890,1892,1912,1922]\n",
        "Sentence= [length_Collins_NoName, length_Collins_Hotel,length_Doyle_Sign, length_Doyle_Adventures, length_Christe_Affair, length_Christe_Secret ]"
      ],
      "execution_count": 0,
      "outputs": []
    },
    {
      "metadata": {
        "id": "OIfLpn0RCTvV",
        "colab_type": "code",
        "colab": {
          "autoexec": {
            "startup": false,
            "wait_interval": 0
          },
          "output_extras": [
            {
              "item_id": 1
            }
          ],
          "base_uri": "https://localhost:8080/",
          "height": 321
        },
        "outputId": "e6e89e35-c5eb-4df0-e677-2a250fb1df68",
        "executionInfo": {
          "status": "ok",
          "timestamp": 1522552854224,
          "user_tz": 240,
          "elapsed": 417,
          "user": {
            "displayName": "Betty Hu",
            "photoUrl": "https://lh3.googleusercontent.com/a/default-user=s128",
            "userId": "111577064576674311680"
          }
        }
      },
      "cell_type": "code",
      "source": [
        "import matplotlib.pyplot as plt\n",
        "plt.plot(Years,Sentence,'-o',linewidth=1.5)\n",
        "xlab = 'Years'\n",
        "ylab = 'Sentence Length'\n",
        "title = 'Sentence Length Variation'\n",
        "plt.xlabel(xlab)\n",
        "plt.ylabel(ylab)\n",
        "plt.title(title)\n",
        "plt.text(1862,length_Collins_NoName , book_names[0])\n",
        "plt.text(1879,length_Collins_Hotel , book_names[1])\n",
        "plt.text(1887,16.8, book_names[2])\n",
        "plt.text(1892,15 , book_names[3])\n",
        "plt.text(1912,length_Christe_Affair , book_names[4])\n",
        "plt.text(1922,length_Christe_Secret , book_names[5])\n",
        "\n",
        "plt.show()"
      ],
      "execution_count": 145,
      "outputs": [
        {
          "output_type": "display_data",
          "data": {
            "image/png": "[encoded data removed]",
            "text/plain": [
              "<matplotlib.figure.Figure at 0x7fd7f993ae10>"
            ]
          },
          "metadata": {
            "tags": []
          }
        }
      ]
    },
    {
      "metadata": {
        "id": "8k7qnA5Du8au",
        "colab_type": "text"
      },
      "cell_type": "markdown",
      "source": [
        "Female characters for The Secret Adversary:\n",
        "Prudence L Cowley,\n",
        "Julius P Hersheimer,\n",
        "Jane Finn,\n",
        "Marguerite Vandemeyer,\n",
        "\n"
      ]
    },
    {
      "metadata": {
        "id": "dXUY5fRqRWO9",
        "colab_type": "text"
      },
      "cell_type": "markdown",
      "source": [
        "##II.II Female characters occurrences comparison\n"
      ]
    },
    {
      "metadata": {
        "id": "pbRU1jOQyaCv",
        "colab_type": "code",
        "colab": {
          "autoexec": {
            "startup": false,
            "wait_interval": 0
          },
          "output_extras": [
            {
              "item_id": 1
            }
          ],
          "base_uri": "https://localhost:8080/",
          "height": 51
        },
        "outputId": "881b18ce-0b1e-4e90-e1b9-50d580d242d6",
        "executionInfo": {
          "status": "ok",
          "timestamp": 1522550692111,
          "user_tz": 240,
          "elapsed": 242,
          "user": {
            "displayName": "Betty Hu",
            "photoUrl": "https://lh3.googleusercontent.com/a/default-user=s128",
            "userId": "111577064576674311680"
          }
        }
      },
      "cell_type": "code",
      "source": [
        "Sign_count=np.char.count(Doyle_Sign_text, 'Hudson')+np.char.count(Doyle_Sign_text, 'Morstan')\n",
        "Sign_count_she=np.char.count(Doyle_Sign_text, 'she')+np.char.count(Doyle_Sign_text, 'She')\n",
        "print(Sign_count)\n",
        "print(Sign_count_she)"
      ],
      "execution_count": 88,
      "outputs": [
        {
          "output_type": "stream",
          "text": [
            "76\n",
            "190\n"
          ],
          "name": "stdout"
        }
      ]
    },
    {
      "metadata": {
        "id": "SfjBGRtc5Th5",
        "colab_type": "code",
        "colab": {
          "autoexec": {
            "startup": false,
            "wait_interval": 0
          },
          "output_extras": [
            {
              "item_id": 1
            }
          ],
          "base_uri": "https://localhost:8080/",
          "height": 51
        },
        "outputId": "3c928a17-f598-4ab1-8168-3dd20dee37d8",
        "executionInfo": {
          "status": "ok",
          "timestamp": 1522550693315,
          "user_tz": 240,
          "elapsed": 259,
          "user": {
            "displayName": "Betty Hu",
            "photoUrl": "https://lh3.googleusercontent.com/a/default-user=s128",
            "userId": "111577064576674311680"
          }
        }
      },
      "cell_type": "code",
      "source": [
        "Sign_count_final=Sign_count/word_Sign_10000\n",
        "Sign_count_she_final=Sign_count_she/word_Sign_10000\n",
        "print(Sign_count_final)\n",
        "print(Sign_count_she_final)"
      ],
      "execution_count": 89,
      "outputs": [
        {
          "output_type": "stream",
          "text": [
            "16.508102002693427\n",
            "41.27025500673357\n"
          ],
          "name": "stdout"
        }
      ]
    },
    {
      "metadata": {
        "id": "mcNaS61yzTkM",
        "colab_type": "code",
        "colab": {
          "autoexec": {
            "startup": false,
            "wait_interval": 0
          },
          "output_extras": [
            {
              "item_id": 1
            }
          ],
          "base_uri": "https://localhost:8080/",
          "height": 51
        },
        "outputId": "acb63813-d878-4757-d081-256adf0bed24",
        "executionInfo": {
          "status": "ok",
          "timestamp": 1522550694165,
          "user_tz": 240,
          "elapsed": 244,
          "user": {
            "displayName": "Betty Hu",
            "photoUrl": "https://lh3.googleusercontent.com/a/default-user=s128",
            "userId": "111577064576674311680"
          }
        }
      },
      "cell_type": "code",
      "source": [
        "Adventures_count=np.char.count(Doyle_Adventures_text, 'Hudson')+np.char.count(Doyle_Adventures_text, 'Adler')+np.char.count(Doyle_Adventures_text, 'the woman')\n",
        "Adventures_count_she=np.char.count(Doyle_Adventures_text, 'she')+np.char.count(Doyle_Sign_text, 'She')\n",
        "\n",
        "print(Adventures_count)\n",
        "print(Adventures_count_she)\n"
      ],
      "execution_count": 90,
      "outputs": [
        {
          "output_type": "stream",
          "text": [
            "26\n",
            "594\n"
          ],
          "name": "stdout"
        }
      ]
    },
    {
      "metadata": {
        "id": "PE6SOrWz587-",
        "colab_type": "code",
        "colab": {
          "autoexec": {
            "startup": false,
            "wait_interval": 0
          },
          "output_extras": [
            {
              "item_id": 1
            }
          ],
          "base_uri": "https://localhost:8080/",
          "height": 51
        },
        "outputId": "5770993a-3595-49e8-9bd5-cfd6c9ef6145",
        "executionInfo": {
          "status": "ok",
          "timestamp": 1522550696592,
          "user_tz": 240,
          "elapsed": 230,
          "user": {
            "displayName": "Betty Hu",
            "photoUrl": "https://lh3.googleusercontent.com/a/default-user=s128",
            "userId": "111577064576674311680"
          }
        }
      },
      "cell_type": "code",
      "source": [
        "Adventures_count_final=Adventures_count/word_Adventures_10000\n",
        "Adventures_count_she_final=Adventures_count_she/word_Adventures_10000\n",
        "print(Adventures_count_final)\n",
        "print(Adventures_count_she_final)"
      ],
      "execution_count": 91,
      "outputs": [
        {
          "output_type": "stream",
          "text": [
            "2.3755356376029018\n",
            "54.27185264369706\n"
          ],
          "name": "stdout"
        }
      ]
    },
    {
      "metadata": {
        "id": "Ey2Y8R1t0zFU",
        "colab_type": "code",
        "colab": {
          "autoexec": {
            "startup": false,
            "wait_interval": 0
          },
          "output_extras": [
            {
              "item_id": 1
            }
          ],
          "base_uri": "https://localhost:8080/",
          "height": 51
        },
        "outputId": "98a85ebf-6d1e-4adf-ea5e-0ceac0ffd5a3",
        "executionInfo": {
          "status": "ok",
          "timestamp": 1522550697363,
          "user_tz": 240,
          "elapsed": 242,
          "user": {
            "displayName": "Betty Hu",
            "photoUrl": "https://lh3.googleusercontent.com/a/default-user=s128",
            "userId": "111577064576674311680"
          }
        }
      },
      "cell_type": "code",
      "source": [
        "Secret_count=np.char.count(Christe_Secret_text,'Cowley')+np.char.count(Christe_Secret_text,'Hersheimer')+np.char.count(Christe_Secret_text,'Finn')+np.char.count(Christe_Secret_text,'Vandemeyer')\n",
        "Secret_count_she=np.char.count(Christe_Secret_text,'She')+np.char.count(Christe_Secret_text,'she')\n",
        "print(Secret_count)\n",
        "print(Secret_count_she)"
      ],
      "execution_count": 92,
      "outputs": [
        {
          "output_type": "stream",
          "text": [
            "241\n",
            "898\n"
          ],
          "name": "stdout"
        }
      ]
    },
    {
      "metadata": {
        "id": "N_vHLikw7DSi",
        "colab_type": "code",
        "colab": {
          "autoexec": {
            "startup": false,
            "wait_interval": 0
          },
          "output_extras": [
            {
              "item_id": 1
            }
          ],
          "base_uri": "https://localhost:8080/",
          "height": 51
        },
        "outputId": "a234dee4-42d7-489c-a8a4-d82e3ed93942",
        "executionInfo": {
          "status": "ok",
          "timestamp": 1522550699263,
          "user_tz": 240,
          "elapsed": 695,
          "user": {
            "displayName": "Betty Hu",
            "photoUrl": "https://lh3.googleusercontent.com/a/default-user=s128",
            "userId": "111577064576674311680"
          }
        }
      },
      "cell_type": "code",
      "source": [
        "Secret_count_final=Secret_count/word_Secret_10000\n",
        "print(Secret_count_final)\n",
        "Secret_count_she_final=Secret_count_she/word_Secret_10000\n",
        "print(Secret_count_she_final)"
      ],
      "execution_count": 93,
      "outputs": [
        {
          "output_type": "stream",
          "text": [
            "30.765695611101183\n",
            "114.63732223555544\n"
          ],
          "name": "stdout"
        }
      ]
    },
    {
      "metadata": {
        "id": "Dk_BIfcR1w0G",
        "colab_type": "code",
        "colab": {
          "autoexec": {
            "startup": false,
            "wait_interval": 0
          },
          "output_extras": [
            {
              "item_id": 1
            }
          ],
          "base_uri": "https://localhost:8080/",
          "height": 51
        },
        "outputId": "6583ad7b-c515-460d-e768-db0a788cd29f",
        "executionInfo": {
          "status": "ok",
          "timestamp": 1522550879380,
          "user_tz": 240,
          "elapsed": 319,
          "user": {
            "displayName": "Betty Hu",
            "photoUrl": "https://lh3.googleusercontent.com/a/default-user=s128",
            "userId": "111577064576674311680"
          }
        }
      },
      "cell_type": "code",
      "source": [
        "Affair_count=np.char.count(Christe_Affair_text,'Mrs. Inglethorp')+np.char.count(Christe_Affair_text,'Mrs. Cavendish')+np.char.count(Christe_Affair_text,' Evelyn')+ np.char.count(Christe_Affair_text,'Mrs. Howard')+np.char.count(Christe_Affair_text,'Cynthia')+np.char.count(Christe_Affair_text,'Mrs. Murdoch')+np.char.count(Christe_Affair_text,'Dorcas')\n",
        "Affair_count_she=np.char.count(Christe_Affair_text,'She')+np.char.count(Christe_Affair_text,'she')\n",
        "print(Affair_count)\n",
        "print(Affair_count_she)\n"
      ],
      "execution_count": 105,
      "outputs": [
        {
          "output_type": "stream",
          "text": [
            "436\n",
            "577\n"
          ],
          "name": "stdout"
        }
      ]
    },
    {
      "metadata": {
        "id": "zSwMUgD57wkm",
        "colab_type": "code",
        "colab": {
          "autoexec": {
            "startup": false,
            "wait_interval": 0
          },
          "output_extras": [
            {
              "item_id": 1
            }
          ],
          "base_uri": "https://localhost:8080/",
          "height": 51
        },
        "outputId": "0e8932e3-2da0-4390-9950-a2d5b60a5993",
        "executionInfo": {
          "status": "ok",
          "timestamp": 1522550905273,
          "user_tz": 240,
          "elapsed": 239,
          "user": {
            "displayName": "Betty Hu",
            "photoUrl": "https://lh3.googleusercontent.com/a/default-user=s128",
            "userId": "111577064576674311680"
          }
        }
      },
      "cell_type": "code",
      "source": [
        "Affair_count_final=Affair_count/word_Affair_10000\n",
        "print(Affair_count_final)\n",
        "Affair_count_she_final=Affair_count_she/word_Affair_10000\n",
        "print(Affair_count_she_final)"
      ],
      "execution_count": 110,
      "outputs": [
        {
          "output_type": "stream",
          "text": [
            "73.15313501451318\n",
            "96.81045620039933\n"
          ],
          "name": "stdout"
        }
      ]
    },
    {
      "metadata": {
        "id": "rcEMjiEl2h3i",
        "colab_type": "text"
      },
      "cell_type": "markdown",
      "source": [
        "Emily Inglethorp,\n",
        "Mary Cavendish,\n",
        "Evelyn Howard ,\n",
        "Cynthia Murdoch,\n",
        "Dorcas "
      ]
    },
    {
      "metadata": {
        "id": "fy5Mm0a033tC",
        "colab_type": "code",
        "colab": {
          "autoexec": {
            "startup": false,
            "wait_interval": 0
          },
          "output_extras": [
            {
              "item_id": 1
            }
          ],
          "base_uri": "https://localhost:8080/",
          "height": 51
        },
        "outputId": "9a124044-7453-4107-86d2-c82e55ea6a52",
        "executionInfo": {
          "status": "ok",
          "timestamp": 1522550704808,
          "user_tz": 240,
          "elapsed": 446,
          "user": {
            "displayName": "Betty Hu",
            "photoUrl": "https://lh3.googleusercontent.com/a/default-user=s128",
            "userId": "111577064576674311680"
          }
        }
      },
      "cell_type": "code",
      "source": [
        "Hotel_count=np.char.count(Collins_Hotel_text,'Mrs. Narona')+np.char.count(Collins_Hotel_text,'Emily')+np.char.count(Collins_Hotel_text,'Mrs. Ferrari')+np.char.count(Collins_Hotel_text,'Mrs. Westwick')+np.char.count(Collins_Hotel_text,'Mrs. Stephen Westwick')+np.char.count(Collins_Hotel_text,'Mrs. Rolland')+np.char.count(Collins_Hotel_text,' Mrs. Carbury')+np.char.count(Collins_Hotel_text,' Mrs. Norbury')+np.char.count(Collins_Hotel_text,' Mrs. James')+np.char.count(Collins_Hotel_text,'Miss Agnes')+np.char.count(Collins_Hotel_text,'Miss Lockwood')\n",
        "\n",
        "Hotel_count_she=np.char.count(Collins_Hotel_text,'She')+np.char.count(Collins_Hotel_text,'she')\n",
        "print(Hotel_count)\n",
        "print(Hotel_count_she)"
      ],
      "execution_count": 96,
      "outputs": [
        {
          "output_type": "stream",
          "text": [
            "207\n",
            "1002\n"
          ],
          "name": "stdout"
        }
      ]
    },
    {
      "metadata": {
        "id": "nupBn_Xq8W1h",
        "colab_type": "code",
        "colab": {
          "autoexec": {
            "startup": false,
            "wait_interval": 0
          },
          "output_extras": [
            {
              "item_id": 1
            }
          ],
          "base_uri": "https://localhost:8080/",
          "height": 51
        },
        "outputId": "a5ba5c99-957c-41bc-e0eb-5f80ab5b752e",
        "executionInfo": {
          "status": "ok",
          "timestamp": 1522551805626,
          "user_tz": 240,
          "elapsed": 248,
          "user": {
            "displayName": "Betty Hu",
            "photoUrl": "https://lh3.googleusercontent.com/a/default-user=s128",
            "userId": "111577064576674311680"
          }
        }
      },
      "cell_type": "code",
      "source": [
        "Hotel_count_final=Hotel_count/word_Hotel_10000\n",
        "print(Hotel_count_final)\n",
        "Hotel_count_she_final=Hotel_count_she/word_Hotel_10000\n",
        "print(Hotel_count_she_final)"
      ],
      "execution_count": 132,
      "outputs": [
        {
          "output_type": "stream",
          "text": [
            "31.76113173965078\n",
            "153.74228987019362\n"
          ],
          "name": "stdout"
        }
      ]
    },
    {
      "metadata": {
        "id": "s9uAvG1u34V5",
        "colab_type": "text"
      },
      "cell_type": "markdown",
      "source": [
        "The haunted hotel:\n",
        "\n",
        "Countess Narona,\n",
        "Emily,\n",
        "Mrs. Ferrari,\n",
        "Mrs. Westwick,\n",
        "Mrs. Stephen Westwick,\n",
        "Mrs. Rolland,\n",
        "Mrs. Carbury,\n",
        "Mrs. Norbury,\n",
        "Mrs. James,\n",
        "Miss Agnes\n",
        "Miss Lockwood\n",
        "Lady Montbarry"
      ]
    },
    {
      "metadata": {
        "id": "g3GBwgpD7ZDC",
        "colab_type": "text"
      },
      "cell_type": "markdown",
      "source": [
        "Wilkie Collins\n",
        "No name\n",
        "\n",
        "Magdalen Vanstone ,\n",
        "Norah Vanstone ,\n",
        "Mrs Lecount ,\n",
        "Matilda Wragge ,\n",
        "Louisa ,\n",
        "Miss Marrable,\n",
        "Mrs Drake  ,\n"
      ]
    },
    {
      "metadata": {
        "id": "3jRezd6P8cw3",
        "colab_type": "code",
        "colab": {
          "autoexec": {
            "startup": false,
            "wait_interval": 0
          },
          "output_extras": [
            {
              "item_id": 1
            }
          ],
          "base_uri": "https://localhost:8080/",
          "height": 51
        },
        "outputId": "90ab435a-1ec6-4749-a072-f757f9097cdc",
        "executionInfo": {
          "status": "ok",
          "timestamp": 1522551702874,
          "user_tz": 240,
          "elapsed": 258,
          "user": {
            "displayName": "Betty Hu",
            "photoUrl": "https://lh3.googleusercontent.com/a/default-user=s128",
            "userId": "111577064576674311680"
          }
        }
      },
      "cell_type": "code",
      "source": [
        "NoName_count = np.char.count(Collins_NoName_text, 'Magdalen Vanstone')+np.char.count(Collins_NoName_text, 'Mrs. Vanstone')+np.char.count(Collins_NoName_text,' Norah Vanstone')+np.char.count(Collins_NoName_text,' Matilda Wragge')+np.char.count(Collins_NoName_text,'Mrs. Wragge')+np.char.count(Collins_NoName_text,'Louisa')+np.char.count(Collins_NoName_text,'Miss Marrable')+np.char.count(Collins_NoName_text,'Mrs Drake')\n",
        "NoName_count_she=np.char.count(Collins_NoName_text, 'She')+np.char.count(Collins_NoName_text, 'she')\n",
        "print(NoName_count)\n",
        "print(NoName_count_she)"
      ],
      "execution_count": 130,
      "outputs": [
        {
          "output_type": "stream",
          "text": [
            "481\n",
            "3975\n"
          ],
          "name": "stdout"
        }
      ]
    },
    {
      "metadata": {
        "id": "HADlZdbs_z22",
        "colab_type": "code",
        "colab": {
          "autoexec": {
            "startup": false,
            "wait_interval": 0
          },
          "output_extras": [
            {
              "item_id": 1
            }
          ],
          "base_uri": "https://localhost:8080/",
          "height": 51
        },
        "outputId": "fc749baa-7d97-4b2a-e478-ebce815cb419",
        "executionInfo": {
          "status": "ok",
          "timestamp": 1522551809421,
          "user_tz": 240,
          "elapsed": 239,
          "user": {
            "displayName": "Betty Hu",
            "photoUrl": "https://lh3.googleusercontent.com/a/default-user=s128",
            "userId": "111577064576674311680"
          }
        }
      },
      "cell_type": "code",
      "source": [
        "NoName_count_final=NoName_count/word_NoName_10000\n",
        "print(NoName_count_final)\n",
        "NoName_count_she_final=NoName_count_she/word_NoName_10000\n",
        "print(NoName_count_she_final)"
      ],
      "execution_count": 133,
      "outputs": [
        {
          "output_type": "stream",
          "text": [
            "18.084134461743222\n",
            "149.44788874309626\n"
          ],
          "name": "stdout"
        }
      ]
    },
    {
      "metadata": {
        "id": "M03M5cYsC2QA",
        "colab_type": "text"
      },
      "cell_type": "markdown",
      "source": [
        ""
      ]
    },
    {
      "metadata": {
        "id": "QVtjF81DC-yd",
        "colab_type": "code",
        "colab": {
          "autoexec": {
            "startup": false,
            "wait_interval": 0
          },
          "output_extras": [
            {
              "item_id": 1
            }
          ],
          "base_uri": "https://localhost:8080/",
          "height": 300
        },
        "outputId": "45cdefad-6c48-4808-994d-fdb0f0398720",
        "executionInfo": {
          "status": "ok",
          "timestamp": 1522551811561,
          "user_tz": 240,
          "elapsed": 501,
          "user": {
            "displayName": "Betty Hu",
            "photoUrl": "https://lh3.googleusercontent.com/a/default-user=s128",
            "userId": "111577064576674311680"
          }
        }
      },
      "cell_type": "code",
      "source": [
        "Female_names = Table().with_columns(\n",
        "    'Name of Novels',book_names,\n",
        "    'female names occurrences/10000 words' , make_array(NoName_count_final, \n",
        "                                                        Hotel_count_final, \n",
        "                                                        Adventures_count_final, \n",
        "                                                        Sign_count_final, \n",
        "                                                        Affair_count_final, \n",
        "                                                        Secret_count_final )\n",
        "  )\n",
        "Female_names.barh('Name of Novels', 'female names occurrences/10000 words')\n"
      ],
      "execution_count": 134,
      "outputs": [
        {
          "output_type": "display_data",
          "data": {
            "image/png": "[encoded data removed]",
            "text/plain": [
              "<matplotlib.figure.Figure at 0x7fd7f9d7c908>"
            ]
          },
          "metadata": {
            "tags": []
          }
        }
      ]
    },
    {
      "metadata": {
        "id": "t1GRxiL6FYLL",
        "colab_type": "code",
        "colab": {
          "autoexec": {
            "startup": false,
            "wait_interval": 0
          },
          "output_extras": [
            {
              "item_id": 1
            }
          ],
          "base_uri": "https://localhost:8080/",
          "height": 300
        },
        "outputId": "8a884877-8f2e-4431-cf81-1e1263faa3ad",
        "executionInfo": {
          "status": "ok",
          "timestamp": 1522551814001,
          "user_tz": 240,
          "elapsed": 390,
          "user": {
            "displayName": "Betty Hu",
            "photoUrl": "https://lh3.googleusercontent.com/a/default-user=s128",
            "userId": "111577064576674311680"
          }
        }
      },
      "cell_type": "code",
      "source": [
        "she_occur = Table().with_columns(\n",
        "    'Name of Novels',book_names,\n",
        "    '“She” occurrences/10000 words' , make_array(NoName_count_she_final, \n",
        "                                                 Hotel_count_she_final, \n",
        "                                                 Adventures_count_she_final, \n",
        "                                                 Sign_count_she_final, \n",
        "                                                 Affair_count_she_final, \n",
        "                                                 Secret_count_she_final )\n",
        "  )\n",
        "she_occur.barh('Name of Novels','“She” occurrences/10000 words')"
      ],
      "execution_count": 135,
      "outputs": [
        {
          "output_type": "display_data",
          "data": {
            "image/png": "[encoded data removed]",
            "text/plain": [
              "<matplotlib.figure.Figure at 0x7fd7f9d3e630>"
            ]
          },
          "metadata": {
            "tags": []
          }
        }
      ]
    },
    {
      "metadata": {
        "id": "QV5OKTMzR7Rk",
        "colab_type": "text"
      },
      "cell_type": "markdown",
      "source": [
        "##II.III Sentiment Analysis"
      ]
    },
    {
      "metadata": {
        "id": "aa8SdIDbTXoN",
        "colab_type": "text"
      },
      "cell_type": "markdown",
      "source": [
        "http://ptrckprry.com/course/ssd/data/positive-words.txt\n",
        "\n",
        "http://ptrckprry.com/course/ssd/data/negative-words.txt"
      ]
    },
    {
      "metadata": {
        "id": "fcPhudVHlJc_",
        "colab_type": "code",
        "colab": {
          "autoexec": {
            "startup": false,
            "wait_interval": 0
          },
          "output_extras": [
            {
              "item_id": 1
            }
          ],
          "base_uri": "https://localhost:8080/",
          "height": 51
        },
        "outputId": "9cbb176b-4d0e-43d4-dd08-02562b278fd0",
        "executionInfo": {
          "status": "ok",
          "timestamp": 1522764635004,
          "user_tz": 240,
          "elapsed": 1441,
          "user": {
            "displayName": "Ilaria Sun",
            "photoUrl": "https://lh3.googleusercontent.com/a/default-user=s128",
            "userId": "113539923285223300811"
          }
        }
      },
      "cell_type": "code",
      "source": [
        "# Positive words count in The Sign of the Four\n",
        "Sign_pos_count = 0\n",
        "for sentence in Doyle_Sign_text.split('/n'):\n",
        "  for word in sentence.split(' '):\n",
        "    if word in pos_word_list:\n",
        "#      print(word)\n",
        "      Sign_pos_count += 1\n",
        "print(Sign_pos_count)"
      ],
      "execution_count": 7,
      "outputs": [
        {
          "output_type": "stream",
          "text": [
            "1036\n"
          ],
          "name": "stdout"
        }
      ]
    },
    {
      "metadata": {
        "id": "KyFxmnSGzXhq",
        "colab_type": "code",
        "colab": {
          "autoexec": {
            "startup": false,
            "wait_interval": 0
          },
          "output_extras": [
            {
              "item_id": 1
            }
          ],
          "base_uri": "https://localhost:8080/",
          "height": 51
        },
        "outputId": "55070b04-0ffc-48d0-8010-005550d478a2",
        "executionInfo": {
          "status": "ok",
          "timestamp": 1522764673066,
          "user_tz": 240,
          "elapsed": 3335,
          "user": {
            "displayName": "Ilaria Sun",
            "photoUrl": "https://lh3.googleusercontent.com/a/default-user=s128",
            "userId": "113539923285223300811"
          }
        }
      },
      "cell_type": "code",
      "source": [
        "# Negative words count in The Sign of the Four\n",
        "Sign_neg_count = 0\n",
        "for sentence in Doyle_Sign_text.split('/n'):\n",
        "  for word in sentence.split(' '):\n",
        "    if word in neg_word_list:\n",
        "#      print(word)\n",
        "      Sign_neg_count += 1\n",
        "print(Sign_neg_count)"
      ],
      "execution_count": 8,
      "outputs": [
        {
          "output_type": "stream",
          "text": [
            "969\n"
          ],
          "name": "stdout"
        }
      ]
    },
    {
      "metadata": {
        "id": "BfE9q6ybrgNP",
        "colab_type": "code",
        "colab": {
          "autoexec": {
            "startup": false,
            "wait_interval": 0
          },
          "output_extras": [
            {
              "item_id": 1
            }
          ],
          "base_uri": "https://localhost:8080/",
          "height": 51
        },
        "outputId": "b3d6d861-46d5-47ec-a395-2933e960207e",
        "executionInfo": {
          "status": "ok",
          "timestamp": 1522765938667,
          "user_tz": 240,
          "elapsed": 3248,
          "user": {
            "displayName": "Ilaria Sun",
            "photoUrl": "https://lh3.googleusercontent.com/a/default-user=s128",
            "userId": "113539923285223300811"
          }
        }
      },
      "cell_type": "code",
      "source": [
        "# Positive words count in Adventures of Sherlock Holmes\n",
        "Adventures_pos_count = 0\n",
        "for sentence in Doyle_Adventures_text.split('/n'):\n",
        "  for word in sentence.split(' '):\n",
        "    if word in pos_word_list:\n",
        "#      print(word)\n",
        "      Adventures_pos_count += 1\n",
        "print(Adventures_pos_count)"
      ],
      "execution_count": 9,
      "outputs": [
        {
          "output_type": "stream",
          "text": [
            "2086\n"
          ],
          "name": "stdout"
        }
      ]
    },
    {
      "metadata": {
        "id": "rBdho-krzm6C",
        "colab_type": "code",
        "colab": {
          "autoexec": {
            "startup": false,
            "wait_interval": 0
          },
          "output_extras": [
            {
              "item_id": 1
            }
          ],
          "base_uri": "https://localhost:8080/",
          "height": 51
        },
        "outputId": "98b4b0e4-cd8e-4fe8-b1c7-099db339dacd",
        "executionInfo": {
          "status": "ok",
          "timestamp": 1522713678890,
          "user_tz": 240,
          "elapsed": 8907,
          "user": {
            "displayName": "Ilaria Sun",
            "photoUrl": "https://lh3.googleusercontent.com/a/default-user=s128",
            "userId": "113539923285223300811"
          }
        }
      },
      "cell_type": "code",
      "source": [
        "# Negative words count in Adventures of Sherlock Holmes\n",
        "Adventures_neg_count = 0\n",
        "for sentence in Doyle_Adventures_text.split('/n'):\n",
        "  for word in sentence.split(' '):\n",
        "    if word in neg_word_list:\n",
        "#      print(word)\n",
        "      count += 1\n",
        "print(count)"
      ],
      "execution_count": 54,
      "outputs": [
        {
          "output_type": "stream",
          "text": [
            "2139\n"
          ],
          "name": "stdout"
        }
      ]
    },
    {
      "metadata": {
        "id": "As5LJhvP1AOv",
        "colab_type": "code",
        "colab": {
          "autoexec": {
            "startup": false,
            "wait_interval": 0
          },
          "output_extras": [
            {
              "item_id": 1
            }
          ],
          "base_uri": "https://localhost:8080/",
          "height": 34
        },
        "outputId": "ad6eabf7-a063-49da-b1fe-022a4c078d73",
        "executionInfo": {
          "status": "ok",
          "timestamp": 1522765363312,
          "user_tz": 240,
          "elapsed": 6680,
          "user": {
            "displayName": "Betty Hu",
            "photoUrl": "https://lh3.googleusercontent.com/a/default-user=s128",
            "userId": "111577064576674311680"
          }
        }
      },
      "cell_type": "code",
      "source": [
        "# Positive words count in No Name\n",
        "No_name_pos_count=0\n",
        "for sentence in Collins_NoName_text.split('/n'):\n",
        "  for word in sentence.split(' '):\n",
        "    if word in pos_word_list:\n",
        "      No_name_pos_count += 1\n",
        "print(No_name_pos_count)"
      ],
      "execution_count": 6,
      "outputs": [
        {
          "output_type": "stream",
          "text": [
            "5561\n"
          ],
          "name": "stdout"
        }
      ]
    },
    {
      "metadata": {
        "id": "jLxlpkjY46Ll",
        "colab_type": "code",
        "colab": {
          "autoexec": {
            "startup": false,
            "wait_interval": 0
          },
          "output_extras": [
            {
              "item_id": 1
            }
          ],
          "base_uri": "https://localhost:8080/",
          "height": 34
        },
        "outputId": "0d8e1fa5-3d6b-4699-dd47-35ee91959ce3",
        "executionInfo": {
          "status": "ok",
          "timestamp": 1522765420589,
          "user_tz": 240,
          "elapsed": 15784,
          "user": {
            "displayName": "Betty Hu",
            "photoUrl": "https://lh3.googleusercontent.com/a/default-user=s128",
            "userId": "111577064576674311680"
          }
        }
      },
      "cell_type": "code",
      "source": [
        "# Negative words count in No Name\n",
        "No_name_neg_count=0\n",
        "for sentence in Collins_NoName_text.split('/n'):\n",
        "  for word in sentence.split(' '):\n",
        "    if word in neg_word_list:\n",
        "      No_name_neg_count += 1\n",
        "print(No_name_neg_count)"
      ],
      "execution_count": 7,
      "outputs": [
        {
          "output_type": "stream",
          "text": [
            "6627\n"
          ],
          "name": "stdout"
        }
      ]
    },
    {
      "metadata": {
        "id": "rewqiDaR6pTe",
        "colab_type": "code",
        "colab": {
          "autoexec": {
            "startup": false,
            "wait_interval": 0
          },
          "output_extras": [
            {
              "item_id": 1
            }
          ],
          "base_uri": "https://localhost:8080/",
          "height": 34
        },
        "outputId": "86ffee9c-d1c9-40bd-f41b-ace04f60cb1f",
        "executionInfo": {
          "status": "ok",
          "timestamp": 1522765905301,
          "user_tz": 240,
          "elapsed": 2230,
          "user": {
            "displayName": "Betty Hu",
            "photoUrl": "https://lh3.googleusercontent.com/a/default-user=s128",
            "userId": "111577064576674311680"
          }
        }
      },
      "cell_type": "code",
      "source": [
        "# Positive words count in The Secret Adversary\n",
        "Secret_pos_count=0\n",
        "for sentence in Christe_Secret_text.split('/n'):\n",
        "  for word in sentence.split(' '):\n",
        "    if word in pos_word_list:\n",
        "      Secret_pos_count += 1\n",
        "print(Secret_pos_count)"
      ],
      "execution_count": 8,
      "outputs": [
        {
          "output_type": "stream",
          "text": [
            "1394\n"
          ],
          "name": "stdout"
        }
      ]
    },
    {
      "metadata": {
        "id": "xVksG7Pz68aY",
        "colab_type": "code",
        "colab": {
          "autoexec": {
            "startup": false,
            "wait_interval": 0
          },
          "output_extras": [
            {
              "item_id": 1
            }
          ],
          "base_uri": "https://localhost:8080/",
          "height": 34
        },
        "outputId": "53521b95-ea6b-4721-e2dd-5c9a2e4cf451",
        "executionInfo": {
          "status": "ok",
          "timestamp": 1522765938622,
          "user_tz": 240,
          "elapsed": 4886,
          "user": {
            "displayName": "Betty Hu",
            "photoUrl": "https://lh3.googleusercontent.com/a/default-user=s128",
            "userId": "111577064576674311680"
          }
        }
      },
      "cell_type": "code",
      "source": [
        "# Negative words count in The Secret Adversary\n",
        "Secret_neg_count=0\n",
        "for sentence in Christe_Secret_text.split('/n'):\n",
        "  for word in sentence.split(' '):\n",
        "    if word in neg_word_list:\n",
        "      Secret_neg_count += 1\n",
        "print(Secret_neg_count)"
      ],
      "execution_count": 9,
      "outputs": [
        {
          "output_type": "stream",
          "text": [
            "1418\n"
          ],
          "name": "stdout"
        }
      ]
    },
    {
      "metadata": {
        "id": "LeVepLL-PQPF",
        "colab_type": "text"
      },
      "cell_type": "markdown",
      "source": [
        "#Result"
      ]
    },
    {
      "metadata": {
        "id": "-u3dSDl2Pd-Y",
        "colab_type": "text"
      },
      "cell_type": "markdown",
      "source": [
        "#Discussion/Conclusion"
      ]
    }
  ]
}